{
 "cells": [
  {
   "cell_type": "code",
   "execution_count": 1,
   "metadata": {},
   "outputs": [],
   "source": [
    "#Importation of all the libraries\n",
    "import geopandas as gpd\n",
    "import statistics as st\n",
    "import matplotlib.pyplot as plt\n",
    "import csv\n",
    "import numpy as np\n",
    "from scipy.stats import linregress\n",
    "import zlib\n",
    "from os import listdir\n",
    "import pandas as pd\n",
    "import statsmodels.api as sm\n",
    "from statsmodels.sandbox.regression.predstd import wls_prediction_std"
   ]
  },
  {
   "cell_type": "code",
   "execution_count": 2,
   "metadata": {},
   "outputs": [],
   "source": [
    "#Loading of the data from E-Redes\n",
    "electricity = pd.read_csv('data/energy.csv', sep=';')"
   ]
  },
  {
   "cell_type": "code",
   "execution_count": 3,
   "metadata": {},
   "outputs": [],
   "source": [
    "#Creating a list of all the zip codes\n",
    "zipcode = list(set(list(electricity['Zip Code'])))\n",
    "zipcode.sort()"
   ]
  },
  {
   "cell_type": "code",
   "execution_count": 4,
   "metadata": {},
   "outputs": [],
   "source": [
    "#Creatin a variable to collect the yearly electricity consumption\n",
    "electricity_consumption = {}\n",
    "\n",
    "for i in zipcode:\n",
    "    \n",
    "    #Making sure we have the 12 months of data\n",
    "    if electricity[electricity['Zip Code']==i].shape[0] == 12:\n",
    "        \n",
    "        #Summing all the months\n",
    "        electricity_consumption[i] = int(electricity[electricity['Zip Code']==i]['Active Energy (kWh)'].sum())"
   ]
  },
  {
   "cell_type": "code",
   "execution_count": 5,
   "metadata": {},
   "outputs": [],
   "source": [
    "#Creation of the list to link zipcode and freguesia\n",
    "freguesia = {}\n",
    "\n",
    "freguesia[1000] = 'Areeiro'\n",
    "freguesia[1050] = 'Avenidas Novas'\n",
    "freguesia[1070] = 'Campolide'\n",
    "freguesia[1100] = 'Santa Maria Maior'\n",
    "freguesia[1150] = 'Arroios'\n",
    "freguesia[1170] = 'Penha de França'\n",
    "freguesia[1200] = 'Misericórdia'\n",
    "freguesia[1250] = 'Santo António'\n",
    "freguesia[1300] = 'Alcântara'\n",
    "freguesia[1350] = 'Campo de Ourique'\n",
    "freguesia[1400] = 'Belém'\n",
    "freguesia[1500] = 'Benfica' \n",
    "freguesia[1600] = 'Lumiar'\n",
    "freguesia[1700] = 'Alvalade'\n",
    "freguesia[1750] = 'Santa Clara'\n",
    "freguesia[1800] = 'Olivais'\n",
    "freguesia[1900] = 'Beato'\n",
    "freguesia[1950] = 'Marvila'\n",
    "freguesia[1990] = 'Parque das Nações'\n",
    "\n",
    "freguesia = {value:key for key, value in freguesia.items()}"
   ]
  },
  {
   "cell_type": "code",
   "execution_count": 6,
   "metadata": {},
   "outputs": [],
   "source": [
    "freguesia['Ajuda'] = 1300\n",
    "freguesia['São Domingos de Benfica'] = 1500\n",
    "freguesia['Carnide'] = 1600\n",
    "freguesia['Estrela'] = 1200\n",
    "freguesia['São Vicente'] = 1100"
   ]
  },
  {
   "cell_type": "code",
   "execution_count": 7,
   "metadata": {},
   "outputs": [],
   "source": [
    "#Importation of the population data per freguesia (INE: https://censos.ine.pt/xportal/xmain?xpid=CENSOS&xpgid=censos_quadros)\n",
    "population = pd.read_csv('data/population.csv', sep=';')"
   ]
  },
  {
   "cell_type": "code",
   "execution_count": 8,
   "metadata": {},
   "outputs": [],
   "source": [
    "#Simplification of the dataframe\n",
    "population.drop(['S7A2021:2021-T:MF-1:0 - 14 years',\n",
    "       'S7A2021:2021-T:MF-2:15 - 24 years',\n",
    "       'S7A2021:2021-T:MF-3:25 - 64 years',\n",
    "       'S7A2021:2021-T:MF-4:65 and more years', 'S7A2021:2021-1:M-T:Total',\n",
    "       'S7A2021:2021-1:M-1:0 - 14 years', 'S7A2021:2021-1:M-2:15 - 24 years',\n",
    "       'S7A2021:2021-1:M-3:25 - 64 years',\n",
    "       'S7A2021:2021-1:M-4:65 and more years', 'S7A2021:2021-2:F-T:Total',\n",
    "       'S7A2021:2021-2:F-1:0 - 14 years', 'S7A2021:2021-2:F-2:15 - 24 years',\n",
    "       'S7A2021:2021-2:F-3:25 - 64 years',\n",
    "       'S7A2021:2021-2:F-4:65 and more years'], axis=1, inplace=True)\n",
    "\n",
    "population.drop([0,1,2,3,4], axis=0, inplace=True)\n",
    "\n",
    "population.columns = ['freguesia', 'hab']\n",
    "\n",
    "population.reset_index(inplace=True, drop=True)\n",
    "\n",
    "l=[]\n",
    "for i in list(population.freguesia):\n",
    "    l.append(i[7:])\n",
    "\n",
    "population.freguesia = l"
   ]
  },
  {
   "cell_type": "code",
   "execution_count": 9,
   "metadata": {},
   "outputs": [],
   "source": [
    "#Adding the zipcode column \n",
    "population['zipcode'] = population.apply(lambda x: freguesia[x.freguesia] if x.freguesia in freguesia else 0, axis=1)"
   ]
  },
  {
   "cell_type": "code",
   "execution_count": 10,
   "metadata": {},
   "outputs": [],
   "source": [
    "#Adding the electricity\n",
    "population['electricity (kWh)'] = population.apply(lambda x: electricity_consumption[x.zipcode] if x.zipcode in electricity_consumption else 0, axis=1)"
   ]
  },
  {
   "cell_type": "code",
   "execution_count": 11,
   "metadata": {},
   "outputs": [],
   "source": [
    "#Calculating the waste by the per capita approach\n",
    "#Coefficient factors from observatorio lisboa\n",
    "population['waste total (kg)']  = population.apply(lambda x: x.hab*597, axis=1)\n",
    "population['waste indiferenciada (kg)']  = population.apply(lambda x: x.hab*597*0.754, axis=1)\n",
    "population['waste selectiva (kg)']  = population.apply(lambda x: x.hab*597*(1-0.754), axis=1)"
   ]
  },
  {
   "cell_type": "code",
   "execution_count": 12,
   "metadata": {},
   "outputs": [],
   "source": [
    "#Loading of the geogrphical data\n",
    "geo = gpd.read_file('data/Lisboa_Freguesias_CAOP2015_TM06.shp', )"
   ]
  },
  {
   "cell_type": "code",
   "execution_count": 13,
   "metadata": {},
   "outputs": [],
   "source": [
    "#Sorting the dataframe\n",
    "geo['Freguesia'] = geo.apply(lambda x: 'São Domingos de Benfica' if x.Freguesia == 'S1o Domingos de Benfica' else x.Freguesia, axis=1)\n",
    "geo['Freguesia'] = geo.apply(lambda x: 'São Vicente' if x.Freguesia == 'S1o Vicente' else x.Freguesia, axis=1)\n",
    "\n",
    "geo = geo.sort_values(by = 'Freguesia').copy(deep=True)\n",
    "geo.reset_index(inplace=True, drop=True)"
   ]
  },
  {
   "cell_type": "code",
   "execution_count": 14,
   "metadata": {},
   "outputs": [],
   "source": [
    "#Setting now the new geometry\n",
    "population['geometry'] = geo.geometry"
   ]
  },
  {
   "cell_type": "code",
   "execution_count": 15,
   "metadata": {},
   "outputs": [
    {
     "data": {
      "text/plain": [
       "<AxesSubplot:>"
      ]
     },
     "execution_count": 15,
     "metadata": {},
     "output_type": "execute_result"
    },
    {
     "data": {
      "image/png": "[encoded data removed]",
      "text/plain": [
       "<Figure size 432x288 with 1 Axes>"
      ]
     },
     "metadata": {
      "needs_background": "light"
     },
     "output_type": "display_data"
    }
   ],
   "source": [
    "#Creation of the final GeoDataFrame\n",
    "gdf = gpd.GeoDataFrame(population, geometry = population.geometry).set_crs('epsg:3763')\n",
    "gdf = gdf.to_crs('epsg:4326')\n",
    "\n",
    "gdf.plot()"
   ]
  },
  {
   "cell_type": "code",
   "execution_count": 16,
   "metadata": {},
   "outputs": [],
   "source": [
    "#Creating a dictionnary with the total inhabitant per zipcode (some zip codes cover two freguesia)\n",
    "df2 = gdf.groupby('zipcode').sum()\n",
    "\n",
    "dic= {}\n",
    "for i in df2.index:\n",
    "    dic[i] = int(df2[df2.index==i].hab)\n",
    "    \n",
    "gdf['hab_per_zc'] = gdf.apply(lambda x: dic[x.zipcode], axis=1)"
   ]
  },
  {
   "cell_type": "code",
   "execution_count": 17,
   "metadata": {},
   "outputs": [],
   "source": [
    "#Calculating total electricity and then electricity/hab\n",
    "gdf['electricity_freg (kWh)'] = gdf.apply(lambda x: int(x['electricity (kWh)']*x.hab/x.hab_per_zc), axis=1)\n",
    "gdf['electricty_per_hab (kWh)'] = gdf['electricity_freg (kWh)']/gdf['hab']"
   ]
  },
  {
   "cell_type": "code",
   "execution_count": 18,
   "metadata": {},
   "outputs": [
    {
     "data": {
      "image/png": "[encoded data removed]",
      "text/plain": [
       "<Figure size 432x288 with 1 Axes>"
      ]
     },
     "metadata": {
      "needs_background": "light"
     },
     "output_type": "display_data"
    }
   ],
   "source": [
    "#Graphic representation\n",
    "x = gdf['waste total (kg)']\n",
    "y = gdf['electricity_freg (kWh)']\n",
    "n = gdf['freguesia']\n",
    "\n",
    "fig, ax = plt.subplots()\n",
    "ax.scatter(x, y)\n",
    "\n",
    "for i, txt in enumerate(n):\n",
    "    ax.annotate(txt, (x[i], y[i]))"
   ]
  },
  {
   "cell_type": "code",
   "execution_count": 19,
   "metadata": {},
   "outputs": [],
   "source": [
    "#Factor emission electricty: 0.257 kg C02eq / kWh, 69% (APA - Factor da emissao da electricidade)\n",
    "#Factor emission  gaz: 0.205 kg CO2eq / kWh, 31% (GALP: https://www.galp.com/pt/pt/empresas/eletricidade-e-gas/Apoio-ao-Cliente/Centro-de-Informacao/Eletricidade-e-Gas-Natural-da-Galp)\n",
    "\n",
    "FE_E = 0.257\n",
    "FE_G = 0.205\n",
    "\n",
    "gdf['CO2_from_energy (kt CO2eq)'] = gdf['electricity_freg (kWh)']*(FE_E + FE_G*0.316/(1-0.316))/1000000"
   ]
  },
  {
   "cell_type": "code",
   "execution_count": 20,
   "metadata": {},
   "outputs": [
    {
     "name": "stdout",
     "output_type": "stream",
     "text": [
      "a =  0.0009963996780126122  b =  17.849451708252495  r^2 =  0.2671416049345366\n"
     ]
    },
    {
     "data": {
      "image/png": "[encoded data removed]",
      "text/plain": [
       "<Figure size 432x288 with 1 Axes>"
      ]
     },
     "metadata": {
      "needs_background": "light"
     },
     "output_type": "display_data"
    }
   ],
   "source": [
    "#Linear regression\n",
    "x = gdf['hab']\n",
    "y = gdf['CO2_from_energy (kt CO2eq)']\n",
    "n = gdf['freguesia']\n",
    "a,b,r,p,std_err = linregress(x,y)\n",
    "\n",
    "plt.plot(x,y,'ro', alpha=0.3)\n",
    "mi,ma = min(x), max(x)\n",
    "plt.plot([mi, ma], [a*mi+b, a*ma+b], 'b--')\n",
    "plt.xlabel('Hab per freguesia')\n",
    "plt.ylabel('CO2 emissions from the energy sector')\n",
    "\n",
    "for i, txt in enumerate(n):\n",
    "    plt.annotate(txt, (x[i], y[i]))\n",
    "    \n",
    "print('a = ', a, ' b = ', b, ' r^2 = ', r**2)"
   ]
  },
  {
   "cell_type": "code",
   "execution_count": 21,
   "metadata": {},
   "outputs": [],
   "source": [
    "#Factor emission waste and wastewater: 0.000169 ktC02 eq/hab\n",
    "#508686 hab in observatorios for 86kt CO2eq\n",
    "\n",
    "emissions_from_waste = 86\n",
    "\n",
    "gdf['CO2_from_waste (kt CO2eq)'] = gdf['hab']*emissions_from_waste/gdf['hab'].sum()\n",
    "gdf['CO2_from_waste_per_hab'] = gdf['CO2_from_waste (kt CO2eq)']/gdf['hab']"
   ]
  },
  {
   "cell_type": "code",
   "execution_count": 22,
   "metadata": {},
   "outputs": [
    {
     "data": {
      "text/plain": [
       "134.0990068494664"
      ]
     },
     "execution_count": 22,
     "metadata": {},
     "output_type": "execute_result"
    }
   ],
   "source": [
    "#The 2019 data is 725kt CO2eq for the scope 2.\n",
    "gdf['CO2_from_energy (kt CO2eq)'].sum()/725*100"
   ]
  },
  {
   "cell_type": "code",
   "execution_count": 23,
   "metadata": {},
   "outputs": [
    {
     "data": {
      "text/plain": [
       "3730.44555"
      ]
     },
     "execution_count": 23,
     "metadata": {},
     "output_type": "execute_result"
    }
   ],
   "source": [
    "#Adding two columns\n",
    "gdf['CO2_from_energy_per_hab (tCO2eq)'] = gdf['CO2_from_energy (kt CO2eq)']/gdf['hab']*1000\n",
    "gdf['electricity (kWh)'].sum()/1000000"
   ]
  },
  {
   "cell_type": "code",
   "execution_count": 24,
   "metadata": {},
   "outputs": [],
   "source": [
    "#Estate price per freguesia according to:\n",
    "#https://www.globalcitizensolutions.com/buy-property-lisbon/#:~:text=Cheaper%20areas%20of%20Lisbon%20include,and%20usually%20bigger%20as%20well.\n",
    "\n",
    "estateprice = {}\n",
    "\n",
    "estateprice['Areeiro'] = 4766\n",
    "estateprice['Avenidas Novas'] = 6145\n",
    "estateprice['Campolide'] = 6145\n",
    "estateprice['Santa Maria Maior'] = 6145\n",
    "estateprice['Arroios'] = 4766\n",
    "estateprice['Penha de França'] = 4225\n",
    "estateprice['Misericórdia'] = 7060\n",
    "estateprice['Santo António'] = 7060\n",
    "estateprice['Alcântara'] = 6145\n",
    "estateprice['Campo de Ourique'] = 6145\n",
    "estateprice['Belém'] = 6145\n",
    "estateprice['Benfica'] = 3412\n",
    "estateprice['Lumiar'] = 4225\n",
    "estateprice['Alvalade'] = 6145\n",
    "estateprice['Santa Clara'] = 2529\n",
    "estateprice['Olivais'] = 3412\n",
    "estateprice['Beato'] = 3412\n",
    "estateprice['Marvila'] = 4225\n",
    "estateprice['Parque das Nações'] = 6145\n",
    "estateprice['Ajuda'] = 4225\n",
    "estateprice['São Domingos de Benfica'] = 4225\n",
    "estateprice['Carnide'] = 4225\n",
    "estateprice['Estrela'] = 6145\n",
    "estateprice['São Vicente'] = 4766"
   ]
  },
  {
   "cell_type": "code",
   "execution_count": 25,
   "metadata": {},
   "outputs": [],
   "source": [
    "#Adding the real estate price\n",
    "gdf['Estate price (€/m²)'] = gdf.apply(lambda x: estateprice[x.freguesia], axis=1)"
   ]
  },
  {
   "cell_type": "code",
   "execution_count": 26,
   "metadata": {},
   "outputs": [],
   "source": [
    "gdf['estate_weight'] = gdf['Estate price (€/m²)']/gdf['Estate price (€/m²)'].median()"
   ]
  },
  {
   "cell_type": "code",
   "execution_count": 27,
   "metadata": {},
   "outputs": [
    {
     "name": "stdout",
     "output_type": "stream",
     "text": [
      "Traitement de : 0  -  Ajuda\n",
      "Traitement de : 1  -  Alcântara\n",
      "Traitement de : 2  -  Alvalade\n",
      "Traitement de : 3  -  Areeiro\n",
      "Traitement de : 4  -  Arroios\n",
      "Traitement de : 5  -  Avenidas Novas\n",
      "Traitement de : 6  -  Beato\n",
      "Traitement de : 7  -  Belém\n",
      "Traitement de : 8  -  Benfica\n",
      "Traitement de : 9  -  Campo de Ourique\n",
      "Traitement de : 10  -  Campolide\n",
      "Traitement de : 11  -  Carnide\n",
      "Traitement de : 12  -  Estrela\n",
      "Traitement de : 13  -  Lumiar\n",
      "Traitement de : 14  -  Marvila\n",
      "Traitement de : 15  -  Misericórdia\n",
      "Traitement de : 16  -  Olivais\n",
      "Traitement de : 17  -  Parque das Nações\n",
      "Traitement de : 18  -  Penha de França\n",
      "Traitement de : 19  -  Santa Clara\n",
      "Traitement de : 20  -  Santa Maria Maior\n",
      "Traitement de : 21  -  Santo António\n",
      "Traitement de : 22  -  São Domingos de Benfica\n",
      "Traitement de : 23  -  São Vicente\n"
     ]
    }
   ],
   "source": [
    "#Importing the API of Joao Carabetta from https://github.com/JoaoCarabetta/osmpy\n",
    "import osmpy\n",
    "\n",
    "#We simplify the Polygon to win some time and solve some problems of Polygons beeing too long\n",
    "l= [] \n",
    "for i in range(len(gdf.geometry)):\n",
    "    \n",
    "    print('Traitement de :', i, ' - ', gdf.freguesia[i])\n",
    "    l.append(osmpy.get('RoadLength', gdf.geometry[i].simplify(0.0001)))"
   ]
  },
  {
   "cell_type": "code",
   "execution_count": 28,
   "metadata": {},
   "outputs": [
    {
     "data": {
      "text/plain": [
       "0.06704960962150608"
      ]
     },
     "execution_count": 28,
     "metadata": {},
     "output_type": "execute_result"
    }
   ],
   "source": [
    "#Differece between the normal geometry and the simplify is less than 0.07%\n",
    "100-gdf.geometry[19].simplify(0.0001).area/gdf.geometry[19].area*100"
   ]
  },
  {
   "cell_type": "code",
   "execution_count": 29,
   "metadata": {},
   "outputs": [],
   "source": [
    "#All different road types\n",
    "road_type = {'motorway' : 13.50,\n",
    "             'motorway_link' : 13.50,\n",
    "             'trunk' : 13.50,\n",
    "             'trunk_link' : 13.50,\n",
    "             'primary' : 8.74,\n",
    "             'primary_link' : 8.74,\n",
    "             'secondary' : 8.74,\n",
    "             'secondary_link' : 8.74,\n",
    "             'tertiary' : 3.68,\n",
    "             'tertiary_link' : 3.68,\n",
    "             'unclassified' : 3.68,\n",
    "             'unclassified_link' : 3.68,\n",
    "             'residential' : 3.68,\n",
    "             'residential_link' : 3.68}"
   ]
  },
  {
   "cell_type": "code",
   "execution_count": 30,
   "metadata": {},
   "outputs": [],
   "source": [
    "#Adding the road score\n",
    "road_score = []\n",
    "\n",
    "for i in range(len(l)):\n",
    "    s=0\n",
    "    for j in road_type:\n",
    "        if j in l[i].index:\n",
    "            s+=float(l[i].loc[[j]].length)*road_type[j]/sum(road_type.values())\n",
    "    road_score.append(int(s))\n",
    "    \n",
    "gdf['road_score'] = road_score"
   ]
  },
  {
   "cell_type": "code",
   "execution_count": 31,
   "metadata": {},
   "outputs": [
    {
     "name": "stdout",
     "output_type": "stream",
     "text": [
      "a =  0.0008320590877969456  b =  457.56339465844985  r^2 =  0.8674348953974981\n"
     ]
    },
    {
     "data": {
      "image/png": "[encoded data removed]",
      "text/plain": [
       "<Figure size 432x288 with 1 Axes>"
      ]
     },
     "metadata": {
      "needs_background": "light"
     },
     "output_type": "display_data"
    }
   ],
   "source": [
    "#Linear regression to see the correlation between the area and the road score\n",
    "x = np.array(gdf.to_crs('epsg:2154').geometry.area)\n",
    "y = np.array(gdf.road_score)\n",
    "a,b,r,p,std_err = linregress(x,y)\n",
    "\n",
    "plt.plot(x,y,'ro', alpha=0.3)\n",
    "mi,ma = min(x), max(x)\n",
    "plt.plot([mi, ma], [a*mi+b, a*ma+b], 'b--')\n",
    "plt.xlabel('Area')\n",
    "plt.ylabel('Road score')\n",
    "print('a = ', a, ' b = ', b, ' r^2 = ', r**2)"
   ]
  },
  {
   "cell_type": "code",
   "execution_count": 32,
   "metadata": {},
   "outputs": [],
   "source": [
    "#Total emissions from transport in 2019: 756 ktCO2eq\n",
    "\n",
    "total_emissions_on_road = 756\n",
    "\n",
    "gdf['CO2_from_road_transportation (kt CO2eq)'] = gdf['road_score']*total_emissions_on_road/gdf['road_score'].sum()\n",
    "gdf['CO2_from_road_transportation_per_hab'] = gdf['CO2_from_road_transportation (kt CO2eq)']/gdf['hab']*1000\n",
    "\n",
    "#Adding the airport\n",
    "gdf['CO2_from_transportation (kt CO2 eq)'] = gdf.apply(lambda x: x['CO2_from_road_transportation (kt CO2eq)'] + 229 if x.freguesia == 'Olivais' else x['CO2_from_road_transportation (kt CO2eq)'], axis=1)\n",
    "gdf['CO2_from_transportation_per_hab'] = gdf['CO2_from_transportation (kt CO2 eq)']/gdf['hab']*1000"
   ]
  },
  {
   "cell_type": "code",
   "execution_count": 33,
   "metadata": {},
   "outputs": [],
   "source": [
    "#2019 5.11t eqC02 per capita: https://ourworldindata.org/grapher/consumption-co2-per-capita?tab=chart&country=~PRT\n",
    "#Purchasing power index per capita is 205: https://www.pordata.pt/en/municipalities/purchasing+power+per+capita-118\n",
    "\n",
    "CO2 = 5.11*205/100"
   ]
  },
  {
   "cell_type": "code",
   "execution_count": 36,
   "metadata": {},
   "outputs": [],
   "source": [
    "#Adding the columns\n",
    "\n",
    "gdf['Total consumption based t eqCO2'] = CO2*gdf['estate_weight']"
   ]
  },
  {
   "cell_type": "code",
   "execution_count": 37,
   "metadata": {},
   "outputs": [],
   "source": [
    "#Total GHG emissions per freguesia\n",
    "gdf['CO2_emissions_per_hab (tCO2eq)'] = gdf['CO2_from_energy_per_hab (tCO2eq)'] + gdf['CO2_from_transportation_per_hab'] + gdf['CO2_from_waste_per_hab']"
   ]
  },
  {
   "cell_type": "code",
   "execution_count": 38,
   "metadata": {},
   "outputs": [],
   "source": [
    "#Adding freguesias' area\n",
    "gdf['area'] = gdf.to_crs('epsg:2154').geometry.area"
   ]
  },
  {
   "cell_type": "code",
   "execution_count": 39,
   "metadata": {},
   "outputs": [],
   "source": [
    "#Saving in Shapefile and GeoSJON\n",
    "gdf.to_file('gdf.shp', encoding='utf-8')\n",
    "gdf.to_file('gdf.geojson', driver='GeoJSON') "
   ]
  },
  {
   "cell_type": "code",
   "execution_count": 40,
   "metadata": {
    "scrolled": true
   },
   "outputs": [
    {
     "name": "stdout",
     "output_type": "stream",
     "text": [
      "User Guide: https://docs.kepler.gl/docs/keplergl-jupyter\n"
     ]
    },
    {
     "data": {
      "application/vnd.jupyter.widget-view+json": {
       "model_id": "b4da282f54384f12967fedbf5b1102d9",
       "version_major": 2,
       "version_minor": 0
      },
      "text/plain": [
       "KeplerGl(data={'data_1':                   freguesia    hab  zipcode  electricity (kWh)  \\\n",
       "0                  …"
      ]
     },
     "metadata": {},
     "output_type": "display_data"
    }
   ],
   "source": [
    "from keplergl import KeplerGl\n",
    "\n",
    "copy = gdf.copy(deep=True)\n",
    "\n",
    "map_2 = KeplerGl(height=800, data={\"data_1\": copy})\n",
    "map_2"
   ]
  },
  {
   "cell_type": "code",
   "execution_count": 41,
   "metadata": {},
   "outputs": [
    {
     "data": {
      "image/png": "[encoded data removed]",
      "text/plain": [
       "<Figure size 720x504 with 1 Axes>"
      ]
     },
     "metadata": {
      "needs_background": "light"
     },
     "output_type": "display_data"
    }
   ],
   "source": [
    "#Boxplots\n",
    "\n",
    "fig = plt.figure(figsize =(10, 7))\n",
    "ax = fig.add_subplot(111)\n",
    "\n",
    "# Creating axes instance\n",
    "bp = ax.boxplot(gdf.to_crs('epsg:2154').geometry.area, patch_artist = True, vert = 0)\n",
    "\n",
    "colors = ['#8DD8FD']\n",
    "\n",
    "for patch, color in zip(bp['boxes'], colors):\n",
    "\tpatch.set_facecolor(color)\n",
    "\n",
    "# changing color and linewidth of\n",
    "# whiskers\n",
    "for whisker in bp['whiskers']:\n",
    "\twhisker.set(color ='#049BE6',\n",
    "\t\t\t\tlinewidth = 3)\n",
    "    \n",
    "# changing color and linewidth of\n",
    "# caps\n",
    "for cap in bp['caps']:\n",
    "\tcap.set(color ='#049BE6',\n",
    "\t\t\tlinewidth = 4)\n",
    "\n",
    "# changing color and linewidth of\n",
    "# medians\n",
    "for median in bp['medians']:\n",
    "\tmedian.set(color ='black',\n",
    "\t\t\tlinewidth = 1)\n",
    "\n",
    "# changing style of fliers\n",
    "for flier in bp['fliers']:\n",
    "\tflier.set(marker ='D',\n",
    "\t\t\tcolor ='#e7298a',\n",
    "\t\t\talpha = 0.5)\n",
    "\n",
    "\t\n",
    "# show plot\n",
    "plt.show()\n"
   ]
  }
 ],
 "metadata": {
  "kernelspec": {
   "display_name": "Python 3",
   "language": "python",
   "name": "python3"
  },
  "language_info": {
   "codemirror_mode": {
    "name": "ipython",
    "version": 3
   },
   "file_extension": ".py",
   "mimetype": "text/x-python",
   "name": "python",
   "nbconvert_exporter": "python",
   "pygments_lexer": "ipython3",
   "version": "3.9.1"
  }
 },
 "nbformat": 4,
 "nbformat_minor": 4
}
